{
 "metadata": {
  "language_info": {
   "codemirror_mode": {
    "name": "ipython",
    "version": 3
   },
   "file_extension": ".py",
   "mimetype": "text/x-python",
   "name": "python",
   "nbconvert_exporter": "python",
   "pygments_lexer": "ipython3",
   "version": "3.8.1-final"
  },
  "orig_nbformat": 2,
  "kernelspec": {
   "name": "python_defaultSpec_1599324562229",
   "display_name": "Python 3.8.1 64-bit"
  }
 },
 "nbformat": 4,
 "nbformat_minor": 2,
 "cells": [
  {
   "cell_type": "code",
   "execution_count": 1,
   "metadata": {},
   "outputs": [],
   "source": [
    "\n",
    "db_data = {'cc':\n",
    "                [{'CampaignID' : 'cc',\n",
    "                 'ProdType'   : 'cc',\n",
    "                 'PID'        : 'H123456789',\n",
    "                 'CustName'   : 'Watermelon Wang',\n",
    "                 'MP1'        : '0930624510',\n",
    "                 'MP2'        : '0930624510',\n",
    "                 'O1'         : '',\n",
    "                 'O2'         : '',\n",
    "                 'H1'         : '',\n",
    "                 'H2'         : '',\n",
    "                 'H3'         : '',\n",
    "                 'H4'         : '',     \n",
    "                 '連絡人電話一': '',\n",
    "                 '戶籍1'      : ''\n",
    "                },\n",
    "                {'CampaignID' : 'cc',\n",
    "                 'ProdType'   : 'cc',\n",
    "                 'PID'        : 'H123456790',\n",
    "                 'CustName'   : 'Apple Chien',\n",
    "                 'MP1'        : '0930624511',\n",
    "                 'MP2'        : '0930624511',\n",
    "                 'O1'         : '',\n",
    "                 'O2'         : '',\n",
    "                 'H1'         : '',\n",
    "                 'H2'         : '',\n",
    "                 'H3'         : '',\n",
    "                 'H4'         : '',     \n",
    "                 '連絡人電話一': '',\n",
    "                 '戶籍1'      : ''\n",
    "                }],\n",
    "            'gm':\n",
    "                 [{'CampaignID' : 'gm',\n",
    "                 'ProdType'   : 'gm',\n",
    "                 'PID'        : 'H123456789',\n",
    "                 'CustName'   : 'Guava Fu',\n",
    "                 'MP1'        : '0930624510',\n",
    "                 'MP2'        : '0930624510',\n",
    "                 'O1'         : '',\n",
    "                 'O2'         : '',\n",
    "                 'H1'         : '',\n",
    "                 'H2'         : '',\n",
    "                 'H3'         : '',\n",
    "                 'H4'         : '',     \n",
    "                 '連絡人電話一': '',\n",
    "                 '戶籍1'      : ''\n",
    "                },\n",
    "                {'CampaignID' : 'gm',\n",
    "                 'ProdType'   : 'gm',\n",
    "                 'PID'        : 'H123456790',\n",
    "                 'CustName'   : 'Banana Lin',\n",
    "                 'MP1'        : '0930624511',\n",
    "                 'MP2'        : '0930624511',\n",
    "                 'O1'         : '',\n",
    "                 'O2'         : '',\n",
    "                 'H1'         : '',\n",
    "                 'H2'         : '',\n",
    "                 'H3'         : '',\n",
    "                 'H4'         : '',     \n",
    "                 '連絡人電話一': '',\n",
    "                 '戶籍1'      : ''\n",
    "                }],\n",
    "            }"
   ]
  },
  {
   "cell_type": "code",
   "execution_count": 2,
   "metadata": {},
   "outputs": [
    {
     "output_type": "execute_result",
     "data": {
      "text/plain": "{'cc': [{'CampaignID': 'cc',\n   'ProdType': 'cc',\n   'PID': 'H123456789',\n   'CustName': 'Watermelon Wang',\n   'MP1': '0930624510',\n   'MP2': '0930624510',\n   'O1': '',\n   'O2': '',\n   'H1': '',\n   'H2': '',\n   'H3': '',\n   'H4': '',\n   '連絡人電話一': '',\n   '戶籍1': ''},\n  {'CampaignID': 'cc',\n   'ProdType': 'cc',\n   'PID': 'H123456790',\n   'CustName': 'Apple Chien',\n   'MP1': '0930624511',\n   'MP2': '0930624511',\n   'O1': '',\n   'O2': '',\n   'H1': '',\n   'H2': '',\n   'H3': '',\n   'H4': '',\n   '連絡人電話一': '',\n   '戶籍1': ''}],\n 'gm': [{'CampaignID': 'gm',\n   'ProdType': 'gm',\n   'PID': 'H123456789',\n   'CustName': 'Guava Fu',\n   'MP1': '0930624510',\n   'MP2': '0930624510',\n   'O1': '',\n   'O2': '',\n   'H1': '',\n   'H2': '',\n   'H3': '',\n   'H4': '',\n   '連絡人電話一': '',\n   '戶籍1': ''},\n  {'CampaignID': 'gm',\n   'ProdType': 'gm',\n   'PID': 'H123456790',\n   'CustName': 'Banana Lin',\n   'MP1': '0930624511',\n   'MP2': '0930624511',\n   'O1': '',\n   'O2': '',\n   'H1': '',\n   'H2': '',\n   'H3': '',\n   'H4': '',\n   '連絡人電話一': '',\n   '戶籍1': ''}]}"
     },
     "metadata": {},
     "execution_count": 2
    }
   ],
   "source": [
    "db_data"
   ]
  },
  {
   "cell_type": "code",
   "execution_count": 6,
   "metadata": {},
   "outputs": [
    {
     "output_type": "execute_result",
     "data": {
      "text/plain": "[{'CampaignID': 'cc',\n  'ProdType': 'cc',\n  'PID': 'H123456789',\n  'CustName': 'Watermelon Wang',\n  'MP1': '0930624510',\n  'MP2': '0930624510',\n  'O1': '',\n  'O2': '',\n  'H1': '',\n  'H2': '',\n  'H3': '',\n  'H4': '',\n  '連絡人電話一': '',\n  '戶籍1': ''},\n {'CampaignID': 'cc',\n  'ProdType': 'cc',\n  'PID': 'H123456790',\n  'CustName': 'Apple Chien',\n  'MP1': '0930624511',\n  'MP2': '0930624511',\n  'O1': '',\n  'O2': '',\n  'H1': '',\n  'H2': '',\n  'H3': '',\n  'H4': '',\n  '連絡人電話一': '',\n  '戶籍1': ''}]"
     },
     "metadata": {},
     "execution_count": 6
    }
   ],
   "source": [
    "db_data['cc']"
   ]
  },
  {
   "cell_type": "code",
   "execution_count": 7,
   "metadata": {},
   "outputs": [
    {
     "output_type": "execute_result",
     "data": {
      "text/plain": "{'CampaignID': 'cc',\n 'ProdType': 'cc',\n 'PID': 'H123456789',\n 'CustName': 'Watermelon Wang',\n 'MP1': '0930624510',\n 'MP2': '0930624510',\n 'O1': '',\n 'O2': '',\n 'H1': '',\n 'H2': '',\n 'H3': '',\n 'H4': '',\n '連絡人電話一': '',\n '戶籍1': ''}"
     },
     "metadata": {},
     "execution_count": 7
    }
   ],
   "source": [
    "db_data['cc'][0]"
   ]
  },
  {
   "cell_type": "code",
   "execution_count": 8,
   "metadata": {},
   "outputs": [
    {
     "output_type": "execute_result",
     "data": {
      "text/plain": "'H123456789'"
     },
     "metadata": {},
     "execution_count": 8
    }
   ],
   "source": [
    "db_data['cc'][0]['PID']"
   ]
  },
  {
   "cell_type": "code",
   "execution_count": 10,
   "metadata": {},
   "outputs": [],
   "source": [
    "asd={\n",
    "  \"contents\": [\n",
    "    {\n",
    "      \"content\": \"aaa\",\n",
    "      \"id\": 2\n",
    "    },\n",
    "    {\n",
    "      \"content\": \"456\",\n",
    "      \"id\": 3\n",
    "    },\n",
    "    {\n",
    "      \"content\": \"448\",\n",
    "      \"id\": 4\n",
    "    },\n",
    "    {\n",
    "      \"content\": \"878\",\n",
    "      \"id\": 5\n",
    "    },\n",
    "    {\n",
    "      \"content\": \"666\",\n",
    "      \"id\": 6\n",
    "    },\n",
    "    {\n",
    "      \"content\": \"777\",\n",
    "      \"id\": 7\n",
    "    },\n",
    "    {\n",
    "      \"content\": \"888\",\n",
    "      \"id\": 8\n",
    "    },\n",
    "    {\n",
    "      \"content\": \"999\",\n",
    "      \"id\": 9\n",
    "    },\n",
    "    {\n",
    "      \"content\": \"000\",\n",
    "      \"id\": 10\n",
    "    },\n",
    "    {\n",
    "      \"content\": \"1231\",\n",
    "      \"id\": 17\n",
    "    },\n",
    "    {\n",
    "      \"content\": \"132165\",\n",
    "      \"id\": 18\n",
    "    }\n",
    "  ]\n",
    "}"
   ]
  },
  {
   "cell_type": "code",
   "execution_count": 11,
   "metadata": {},
   "outputs": [
    {
     "output_type": "execute_result",
     "data": {
      "text/plain": "[{'content': 'aaa', 'id': 2},\n {'content': '456', 'id': 3},\n {'content': '448', 'id': 4},\n {'content': '878', 'id': 5},\n {'content': '666', 'id': 6},\n {'content': '777', 'id': 7},\n {'content': '888', 'id': 8},\n {'content': '999', 'id': 9},\n {'content': '000', 'id': 10},\n {'content': '1231', 'id': 17},\n {'content': '132165', 'id': 18}]"
     },
     "metadata": {},
     "execution_count": 11
    }
   ],
   "source": [
    "asd['contents']"
   ]
  },
  {
   "cell_type": "code",
   "execution_count": 64,
   "metadata": {
    "tags": []
   },
   "outputs": [
    {
     "output_type": "stream",
     "name": "stdout",
     "text": "第0趟x={'content': 'aaa', 'id': 2}\n第1趟x={'content': '456', 'id': 3}\n第2趟x={'content': '448', 'id': 4}\n第3趟x={'content': '878', 'id': 5}\n第4趟x={'content': '666', 'id': 6}\n第5趟x={'content': '777', 'id': 7}\n第6趟x={'content': '888', 'id': 8}\n第7趟x={'content': '999', 'id': 9}\n第8趟x={'content': '000', 'id': 10}\n第9趟x={'content': '1231', 'id': 17}\n第10趟x={'content': '132165', 'id': 18}\n132165\n"
    }
   ],
   "source": [
    "i=0\n",
    "for x in asd['contents']:\n",
    "    #print(f'第{i}趟x={x}')\n",
    "    print('第%s趟x=%s' % (i,x))\n",
    "    i=i+1\n",
    "    if x['id'] == 18:\n",
    "        print(x['content'])"
   ]
  },
  {
   "cell_type": "code",
   "execution_count": 20,
   "metadata": {
    "tags": []
   },
   "outputs": [
    {
     "output_type": "stream",
     "name": "stdout",
     "text": "0\n1\n2\n3\n4\n5\n"
    }
   ],
   "source": [
    "sequences = [0, 1, 2, 3, 4, 5]\n",
    "for i in sequences:\n",
    "    print(i)\n",
    "    "
   ]
  },
  {
   "cell_type": "code",
   "execution_count": 33,
   "metadata": {
    "tags": []
   },
   "outputs": [
    {
     "output_type": "stream",
     "name": "stdout",
     "text": "成績及格!\n"
    }
   ],
   "source": [
    "score = int(input(\"請輸入成績\"))\n",
    "if score >= 60:\n",
    "    print(\"成績及格!\")"
   ]
  },
  {
   "cell_type": "code",
   "execution_count": 51,
   "metadata": {
    "tags": []
   },
   "outputs": [
    {
     "output_type": "stream",
     "name": "stdout",
     "text": "{'content': 'aaa', 'id': 2}\n{'content': '456', 'id': 3}\n{'content': '448', 'id': 4}\n{'content': '878', 'id': 5}\n{'content': '666', 'id': 6}\n{'content': '777', 'id': 7}\n{'content': '888', 'id': 8}\n{'content': '999', 'id': 9}\n{'content': '000', 'id': 10}\n{'content': '1231', 'id': 17}\n{'content': '132165', 'id': 18}\n========\n{'content': 'aaa', 'id': 2}\n{'content': '456', 'id': 3}\n{'content': '448', 'id': 4}\n{'content': '878', 'id': 5}\n{'content': '666', 'id': 6}\n{'content': '777', 'id': 7}\n{'content': '888', 'id': 8}\n{'content': '999', 'id': 9}\n{'content': '000', 'id': 10}\n{'content': '1231', 'id': 17}\n{'content': '132165', 'id': 18}\n===========\n0\n{'content': 'aaa', 'id': 2}\n1\n{'content': '456', 'id': 3}\n2\n{'content': '448', 'id': 4}\n3\n{'content': '878', 'id': 5}\n4\n{'content': '666', 'id': 6}\n5\n{'content': '777', 'id': 7}\n6\n{'content': '888', 'id': 8}\n7\n{'content': '999', 'id': 9}\n8\n{'content': '000', 'id': 10}\n9\n{'content': '1231', 'id': 17}\n10\n{'content': '132165', 'id': 18}\n"
    }
   ],
   "source": [
    "for i in range(len(asd['contents'])):\n",
    "    \n",
    "    print(asd['contents'][i])\n",
    "\n",
    "print('========')\n",
    "\n",
    "for x in asd['contents']:\n",
    "    print(x)\n",
    "\n",
    "print('===========')\n",
    "\n",
    "for i,x in enumerate(asd['contents']):\n",
    "    print(i)"
   ]
  },
  {
   "cell_type": "code",
   "execution_count": 9,
   "metadata": {
    "tags": []
   },
   "outputs": [
    {
     "output_type": "stream",
     "name": "stdout",
     "text": "[5, 4, 3, 2, 1]\n========\n5\n========\n[4, 3, 2, 1]\n"
    }
   ],
   "source": [
    "#python基礎\n",
    "a=[1,2,3,4,5]\n",
    "b=a[::-1]\n",
    "print(b)\n",
    "print('========')\n",
    "b=a[-1]\n",
    "print(b)\n",
    "print('========')\n",
    "b=a[3::-1]\n",
    "print(b)"
   ]
  },
  {
   "cell_type": "code",
   "execution_count": 7,
   "metadata": {},
   "outputs": [
    {
     "output_type": "execute_result",
     "data": {
      "text/plain": "[0, 1, 2, 3, 4, 5, 6, 7, 8]"
     },
     "metadata": {},
     "execution_count": 7
    }
   ],
   "source": [
    "In [12]: l = list(range(10))\n",
    "\n",
    "In [13]: l"
   ]
  },
  {
   "cell_type": "code",
   "execution_count": null,
   "metadata": {},
   "outputs": [],
   "source": [
    "In [16]: l[:-1]\n",
    "\n"
   ]
  }
 ]
}